{
  "nbformat": 4,
  "nbformat_minor": 0,
  "metadata": {
    "colab": {
      "name": "Untitled2.ipynb",
      "provenance": [],
      "authorship_tag": "ABX9TyOY92OTGReP2aZmQISTD852",
      "include_colab_link": true
    },
    "kernelspec": {
      "name": "python3",
      "display_name": "Python 3"
    },
    "language_info": {
      "name": "python"
    }
  },
  "cells": [
    {
      "cell_type": "markdown",
      "metadata": {
        "id": "view-in-github",
        "colab_type": "text"
      },
      "source": [
        "<a href=\"https://colab.research.google.com/github/chihling1128/Introduction-to-Computers/blob/main/0530.ipynb\" target=\"_parent\"><img src=\"https://colab.research.google.com/assets/colab-badge.svg\" alt=\"Open In Colab\"/></a>"
      ]
    },
    {
      "cell_type": "code",
      "execution_count": 1,
      "metadata": {
        "colab": {
          "base_uri": "https://localhost:8080/"
        },
        "id": "7bSHMZm2Gbdl",
        "outputId": "249832c5-c40c-4c4e-f480-ee4ec0deab2a"
      },
      "outputs": [
        {
          "output_type": "stream",
          "name": "stdout",
          "text": [
            "0-50的偶數和結果是 650\n",
            "0-50的積數和結果是 625\n"
          ]
        }
      ],
      "source": [
        "i=0\n",
        "a=0\n",
        "b=0\n",
        "while i<51 :\n",
        "     if i%2==0:\n",
        "         a=a+i\n",
        "     else:\n",
        "         b=b+i\n",
        "     i=i+1\n",
        "     \n",
        "    \n",
        "\n",
        "print(\"0-50的偶數和結果是\",a)\n",
        "\n",
        "print(\"0-50的積數和結果是\",b)"
      ]
    },
    {
      "cell_type": "code",
      "source": [
        "i=0\n",
        "a=0\n",
        "while i<101:\n",
        "    if i%3==0 or i%7==0:\n",
        "        a=a+i\n",
        "    i=i+1\n",
        "print(\"數值1-100中,所有是3或7的倍數之總和=\",a)"
      ],
      "metadata": {
        "colab": {
          "base_uri": "https://localhost:8080/"
        },
        "id": "Ev7g7pHVGwpt",
        "outputId": "19bbd405-1f8a-4146-dc92-b704a27bf6bc"
      },
      "execution_count": 2,
      "outputs": [
        {
          "output_type": "stream",
          "name": "stdout",
          "text": [
            "數值1-100中,所有是3或7的倍數之總和= 2208\n"
          ]
        }
      ]
    },
    {
      "cell_type": "code",
      "source": [
        "a=int(input(\"請輸入正整數: \"))\n",
        "for i in range(a,0,-1):\n",
        "    print(\"* \"*i)\n",
        "print(\" \")"
      ],
      "metadata": {
        "colab": {
          "base_uri": "https://localhost:8080/"
        },
        "id": "mSew2w8SO2kY",
        "outputId": "22076e51-3e3c-4808-eca3-12bc27e1e892"
      },
      "execution_count": 3,
      "outputs": [
        {
          "output_type": "stream",
          "name": "stdout",
          "text": [
            "請輸入正整數: 5\n",
            "* * * * * \n",
            "* * * * \n",
            "* * * \n",
            "* * \n",
            "* \n",
            " \n"
          ]
        }
      ]
    }
  ]
}